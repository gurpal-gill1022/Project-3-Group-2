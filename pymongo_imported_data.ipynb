{
 "cells": [
  {
   "cell_type": "markdown",
   "id": "fd9e0605",
   "metadata": {},
   "source": [
    "Before running any of the following code, make sure you import the dataset with `mongoimport --type csv -d titles_db -c titles_clean --headerline --drop titles_clean.csv`"
   ]
  },
  {
   "cell_type": "code",
   "execution_count": null,
   "id": "c52eb732",
   "metadata": {},
   "outputs": [],
   "source": [
    "from pymongo import MongoClient"
   ]
  },
  {
   "cell_type": "code",
   "execution_count": null,
   "id": "575b064a",
   "metadata": {},
   "outputs": [],
   "source": [
    "# Create an instance of MongoClient\n",
    "\n",
    "mongo = MongoClient(port=27017)"
   ]
  },
  {
   "cell_type": "code",
   "execution_count": null,
   "id": "21a5bdd1",
   "metadata": {},
   "outputs": [],
   "source": [
    "# confirm that our new database \"titles_db\" was created\n",
    "\n",
    "print(mongo.list_database_names())"
   ]
  },
  {
   "cell_type": "code",
   "execution_count": null,
   "id": "dfb4b564",
   "metadata": {},
   "outputs": [],
   "source": [
    "# assign the database to a variable name\n",
    "titles_db = mongo['titles_db']"
   ]
  },
  {
   "cell_type": "code",
   "execution_count": null,
   "id": "9dbb7c6f",
   "metadata": {},
   "outputs": [],
   "source": [
    "# review the collections in the database\n",
    "\n",
    "print(titles_db.list_collection_names())"
   ]
  },
  {
   "cell_type": "code",
   "execution_count": null,
   "id": "5c908558",
   "metadata": {},
   "outputs": [],
   "source": [
    "# review a document in the titles collection\n",
    "\n",
    "print(titles_db.titles_clean.find_one())"
   ]
  },
  {
   "cell_type": "code",
   "execution_count": null,
   "id": "6f50ee58",
   "metadata": {},
   "outputs": [],
   "source": [
    "# assign the collection to a variable\n",
    "\n",
    "titles = titles_db['titles_clean']"
   ]
  },
  {
   "cell_type": "code",
   "execution_count": null,
   "id": "834d32ba",
   "metadata": {},
   "outputs": [],
   "source": [
    "# review a document in the collection using the variable\n",
    "titles.find_one()"
   ]
  }
 ],
 "metadata": {
  "kernelspec": {
   "display_name": "Python 3 (ipykernel)",
   "language": "python",
   "name": "python3"
  },
  "language_info": {
   "codemirror_mode": {
    "name": "ipython",
    "version": 3
   },
   "file_extension": ".py",
   "mimetype": "text/x-python",
   "name": "python",
   "nbconvert_exporter": "python",
   "pygments_lexer": "ipython3",
   "version": "3.10.12"
  }
 },
 "nbformat": 4,
 "nbformat_minor": 5
}
