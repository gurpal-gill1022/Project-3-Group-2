{
 "cells": [
  {
   "cell_type": "code",
   "execution_count": 1,
   "id": "ea05cb5c",
   "metadata": {},
   "outputs": [],
   "source": [
    "from pymongo import MongoClient"
   ]
  },
  {
   "cell_type": "code",
   "execution_count": 2,
   "id": "575b064a",
   "metadata": {},
   "outputs": [],
   "source": [
    "# Create an instance of MongoClient\n",
    "\n",
    "mongo = MongoClient(port=27017)"
   ]
  },
  {
   "cell_type": "code",
   "execution_count": 3,
   "id": "21a5bdd1",
   "metadata": {},
   "outputs": [
    {
     "name": "stdout",
     "output_type": "stream",
     "text": [
      "['admin', 'classDB', 'config', 'epa', 'fruits_db', 'local', 'met', 'titles_db', 'travel_db', 'uk_food']\n"
     ]
    }
   ],
   "source": [
    "# confirm that our new database \"titles_db\" was created\n",
    "\n",
    "print(mongo.list_database_names())"
   ]
  },
  {
   "cell_type": "code",
   "execution_count": 4,
   "id": "dfb4b564",
   "metadata": {},
   "outputs": [],
   "source": [
    "# assign the database to a variable name\n",
    "titles_db = mongo['titles_db']"
   ]
  },
  {
   "cell_type": "code",
   "execution_count": 5,
   "id": "9dbb7c6f",
   "metadata": {},
   "outputs": [
    {
     "name": "stdout",
     "output_type": "stream",
     "text": [
      "['titles']\n"
     ]
    }
   ],
   "source": [
    "# review the collections in the database\n",
    "\n",
    "print(titles_db.list_collection_names())"
   ]
  },
  {
   "cell_type": "code",
   "execution_count": 6,
   "id": "5c908558",
   "metadata": {},
   "outputs": [
    {
     "name": "stdout",
     "output_type": "stream",
     "text": [
      "{'_id': ObjectId('65135c4f227e9d272535e020'), '': 338, 'Year': 1959, 'Pro Sport': 'MLB', 'Winning Team': 'Los Angeles Dodgers', 'City': 'Greater Los Angeles', 'State': 'CA'}\n"
     ]
    }
   ],
   "source": [
    "# review a document in the titles collection\n",
    "\n",
    "print(titles_db.titles.find_one())"
   ]
  },
  {
   "cell_type": "code",
   "execution_count": 7,
   "id": "6f50ee58",
   "metadata": {},
   "outputs": [],
   "source": [
    "# assign the collection to a variable\n",
    "\n",
    "titles = titles_db['titles']"
   ]
  },
  {
   "cell_type": "code",
   "execution_count": 8,
   "id": "834d32ba",
   "metadata": {},
   "outputs": [
    {
     "data": {
      "text/plain": [
       "{'_id': ObjectId('65135c4f227e9d272535e020'),\n",
       " '': 338,\n",
       " 'Year': 1959,\n",
       " 'Pro Sport': 'MLB',\n",
       " 'Winning Team': 'Los Angeles Dodgers',\n",
       " 'City': 'Greater Los Angeles',\n",
       " 'State': 'CA'}"
      ]
     },
     "execution_count": 8,
     "metadata": {},
     "output_type": "execute_result"
    }
   ],
   "source": [
    "# review a document in the collection using the variable\n",
    "titles.find_one()"
   ]
  },
  {
   "cell_type": "code",
   "execution_count": null,
   "id": "6cfc86b8",
   "metadata": {},
   "outputs": [],
   "source": []
  }
 ],
 "metadata": {
  "kernelspec": {
   "display_name": "Python 3 (ipykernel)",
   "language": "python",
   "name": "python3"
  },
  "language_info": {
   "codemirror_mode": {
    "name": "ipython",
    "version": 3
   },
   "file_extension": ".py",
   "mimetype": "text/x-python",
   "name": "python",
   "nbconvert_exporter": "python",
   "pygments_lexer": "ipython3",
   "version": "3.10.12"
  }
 },
 "nbformat": 4,
 "nbformat_minor": 5
}
